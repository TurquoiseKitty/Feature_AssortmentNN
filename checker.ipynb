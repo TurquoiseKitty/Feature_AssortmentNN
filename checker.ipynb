{
 "cells": [
  {
   "cell_type": "code",
   "execution_count": 1,
   "id": "65dc5cec",
   "metadata": {},
   "outputs": [
    {
     "name": "stdout",
     "output_type": "stream",
     "text": [
      "input :\n",
      "tensor([[1.0000, 0.0000, 0.0000, 0.0000, 0.0000, 0.0000, 0.0000, 0.0000, 1.0000,\n",
      "         1.0000, 1.0000, 0.8422, 0.5406, 0.6840, 0.5009, 0.8762],\n",
      "        [1.0000, 0.0000, 1.0000, 1.0000, 1.0000, 0.0000, 0.0000, 0.0000, 1.0000,\n",
      "         0.0000, 0.0000, 0.1307, 0.7248, 0.4142, 0.8851, 0.4427],\n",
      "        [1.0000, 0.0000, 0.0000, 0.0000, 0.0000, 0.0000, 0.0000, 0.0000, 0.0000,\n",
      "         0.0000, 1.0000, 0.2057, 0.3410, 0.5290, 0.7278, 0.0724],\n",
      "        [1.0000, 1.0000, 0.0000, 0.0000, 1.0000, 0.0000, 1.0000, 0.0000, 0.0000,\n",
      "         1.0000, 0.0000, 0.6034, 0.6886, 0.9152, 0.2911, 0.9117],\n",
      "        [1.0000, 0.0000, 0.0000, 0.0000, 0.0000, 0.0000, 1.0000, 0.0000, 0.0000,\n",
      "         0.0000, 0.0000, 0.9261, 0.4438, 0.6635, 0.2047, 0.2670]],\n",
      "       device='cuda:0')\n",
      "actual probs:\n",
      "tensor([[7.0133e-01, 0.0000e+00, 0.0000e+00, 0.0000e+00, 0.0000e+00, 0.0000e+00,\n",
      "         0.0000e+00, 0.0000e+00, 1.0140e-02, 8.4984e-02, 2.0355e-01],\n",
      "        [2.7126e-03, 0.0000e+00, 1.4624e-01, 2.7113e-05, 8.5100e-01, 0.0000e+00,\n",
      "         0.0000e+00, 0.0000e+00, 1.8594e-05, 0.0000e+00, 0.0000e+00],\n",
      "        [6.5617e-01, 0.0000e+00, 0.0000e+00, 0.0000e+00, 0.0000e+00, 0.0000e+00,\n",
      "         0.0000e+00, 0.0000e+00, 0.0000e+00, 0.0000e+00, 3.4383e-01],\n",
      "        [5.2619e-03, 2.8940e-02, 0.0000e+00, 0.0000e+00, 9.6500e-01, 0.0000e+00,\n",
      "         1.1461e-04, 0.0000e+00, 0.0000e+00, 6.8180e-04, 0.0000e+00],\n",
      "        [2.8999e-01, 0.0000e+00, 0.0000e+00, 0.0000e+00, 0.0000e+00, 0.0000e+00,\n",
      "         7.1001e-01, 0.0000e+00, 0.0000e+00, 0.0000e+00, 0.0000e+00]],\n",
      "       device='cuda:0')\n",
      "predicted probs:\n",
      "tensor([[7.2159e-01, 0.0000e+00, 0.0000e+00, 0.0000e+00, 0.0000e+00, 0.0000e+00,\n",
      "         0.0000e+00, 0.0000e+00, 4.8391e-03, 8.0072e-02, 1.9350e-01],\n",
      "        [2.2781e-02, 0.0000e+00, 2.4448e-01, 4.7705e-04, 7.3175e-01, 0.0000e+00,\n",
      "         0.0000e+00, 0.0000e+00, 5.1380e-04, 0.0000e+00, 0.0000e+00],\n",
      "        [4.7958e-01, 0.0000e+00, 0.0000e+00, 0.0000e+00, 0.0000e+00, 0.0000e+00,\n",
      "         0.0000e+00, 0.0000e+00, 0.0000e+00, 0.0000e+00, 5.2042e-01],\n",
      "        [4.4738e-03, 9.5792e-03, 0.0000e+00, 0.0000e+00, 9.8438e-01, 0.0000e+00,\n",
      "         1.1378e-03, 0.0000e+00, 0.0000e+00, 4.3363e-04, 0.0000e+00],\n",
      "        [8.3454e-01, 0.0000e+00, 0.0000e+00, 0.0000e+00, 0.0000e+00, 0.0000e+00,\n",
      "         1.6546e-01, 0.0000e+00, 0.0000e+00, 0.0000e+00, 0.0000e+00]],\n",
      "       device='cuda:0', grad_fn=<SliceBackward0>)\n",
      "KL loss:\n",
      "{'KL_loss': tensor(0.7640, device='cuda:0', grad_fn=<DivBackward1>)}\n",
      "min KL loss:\n",
      "{'KL_loss': tensor(0.6423, device='cuda:0')}\n",
      "silly model KL loss: \n",
      "{'KL_loss': tensor(2.1555, device='cuda:0')}\n"
     ]
    }
   ],
   "source": [
    "from check_model import model_behavior_check\n",
    "\n",
    "model_behavior_check(training_yaml_path = \"configs/xWy_10_xWyModel.yaml\", model_name=\"xWy_10_xWyModel\")"
   ]
  },
  {
   "cell_type": "code",
   "execution_count": 1,
   "id": "4a56e314",
   "metadata": {},
   "outputs": [
    {
     "data": {
      "image/png": "[encoded data removed]",
      "text/plain": [
       "<Figure size 432x288 with 1 Axes>"
      ]
     },
     "metadata": {
      "needs_background": "light"
     },
     "output_type": "display_data"
    }
   ],
   "source": [
    "from check_model import model_behavior_check, L1_loss_check\n",
    "\n",
    "L1_loss_check(training_yaml_path = \"configs/xWy_10_xWyModel.yaml\", model_name=\"xWy_10_xWyModel\", clamp_level = 2)"
   ]
  },
  {
   "cell_type": "code",
   "execution_count": null,
   "id": "84df7b9b",
   "metadata": {},
   "outputs": [],
   "source": []
  }
 ],
 "metadata": {
  "kernelspec": {
   "display_name": "Python 3 (ipykernel)",
   "language": "python",
   "name": "python3"
  },
  "language_info": {
   "codemirror_mode": {
    "name": "ipython",
    "version": 3
   },
   "file_extension": ".py",
   "mimetype": "text/x-python",
   "name": "python",
   "nbconvert_exporter": "python",
   "pygments_lexer": "ipython3",
   "version": "3.9.7"
  }
 },
 "nbformat": 4,
 "nbformat_minor": 5
}
