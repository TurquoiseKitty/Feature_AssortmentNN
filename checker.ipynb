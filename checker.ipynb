{
 "cells": [
  {
   "cell_type": "code",
   "execution_count": 1,
   "id": "65dc5cec",
   "metadata": {},
   "outputs": [
    {
     "name": "stdout",
     "output_type": "stream",
     "text": [
      "input :\n",
      "tensor([[ 1.0000,  0.0000,  0.0000,  0.0000,  0.0000,  0.0000,  0.0000,  0.0000,\n",
      "          1.0000,  1.0000,  1.0000, -1.9648,  0.7082, -1.5746, -1.5029,  0.4127],\n",
      "        [ 1.0000,  0.0000,  1.0000,  1.0000,  1.0000,  0.0000,  0.0000,  0.0000,\n",
      "          1.0000,  0.0000,  0.0000,  1.2291, -0.5892, -0.5319,  0.7198, -0.8699],\n",
      "        [ 1.0000,  0.0000,  0.0000,  0.0000,  0.0000,  0.0000,  0.0000,  0.0000,\n",
      "          0.0000,  0.0000,  1.0000,  0.6455,  1.1826, -1.4570,  2.2957, -0.1119],\n",
      "        [ 1.0000,  1.0000,  0.0000,  0.0000,  1.0000,  0.0000,  1.0000,  0.0000,\n",
      "          0.0000,  1.0000,  0.0000, -1.4520,  0.1223,  1.2077, -0.5501, -0.4473],\n",
      "        [ 1.0000,  0.0000,  0.0000,  0.0000,  0.0000,  0.0000,  1.0000,  0.0000,\n",
      "          0.0000,  0.0000,  0.0000, -1.2801, -0.8115, -0.1972,  0.7027,  0.0188]],\n",
      "       device='cuda:0')\n",
      "actual probs:\n",
      "tensor([[0.0207, 0.0000, 0.0000, 0.0000, 0.0000, 0.0000, 0.0000, 0.0000, 0.8677,\n",
      "         0.0492, 0.0624],\n",
      "        [0.4841, 0.0000, 0.1577, 0.1501, 0.0471, 0.0000, 0.0000, 0.0000, 0.1609,\n",
      "         0.0000, 0.0000],\n",
      "        [0.6653, 0.0000, 0.0000, 0.0000, 0.0000, 0.0000, 0.0000, 0.0000, 0.0000,\n",
      "         0.0000, 0.3347],\n",
      "        [0.1273, 0.1185, 0.0000, 0.0000, 0.0154, 0.0000, 0.3822, 0.0000, 0.0000,\n",
      "         0.3564, 0.0000],\n",
      "        [0.9899, 0.0000, 0.0000, 0.0000, 0.0000, 0.0000, 0.0101, 0.0000, 0.0000,\n",
      "         0.0000, 0.0000]], device='cuda:0')\n",
      "predicted probs:\n",
      "tensor([[0.0312, 0.0000, 0.0000, 0.0000, 0.0000, 0.0000, 0.0000, 0.0000, 0.8160,\n",
      "         0.0679, 0.0849],\n",
      "        [0.4061, 0.0000, 0.1475, 0.1874, 0.0549, 0.0000, 0.0000, 0.0000, 0.2041,\n",
      "         0.0000, 0.0000],\n",
      "        [0.6862, 0.0000, 0.0000, 0.0000, 0.0000, 0.0000, 0.0000, 0.0000, 0.0000,\n",
      "         0.0000, 0.3138],\n",
      "        [0.1696, 0.1603, 0.0000, 0.0000, 0.0302, 0.0000, 0.2566, 0.0000, 0.0000,\n",
      "         0.3833, 0.0000],\n",
      "        [0.9809, 0.0000, 0.0000, 0.0000, 0.0000, 0.0000, 0.0191, 0.0000, 0.0000,\n",
      "         0.0000, 0.0000]], device='cuda:0', grad_fn=<SliceBackward0>)\n",
      "KL loss:\n",
      "{'KL_loss': tensor(0.7028, device='cuda:0', grad_fn=<DivBackward1>)}\n",
      "min KL loss:\n",
      "{'KL_loss': tensor(0.6859, device='cuda:0')}\n",
      "silly model KL loss: \n",
      "{'KL_loss': tensor(2.1801, device='cuda:0')}\n"
     ]
    }
   ],
   "source": [
    "from check_model import model_behavior_check\n",
    "\n",
    "model_behavior_check(training_yaml_path = \"configs/xWy_10_xWyModel.yaml\", model_name=\"xWy_10_xWyModel\")"
   ]
  },
  {
   "cell_type": "code",
   "execution_count": 9,
   "id": "4a56e314",
   "metadata": {},
   "outputs": [
    {
     "data": {
      "image/png": "[encoded data removed]",
      "text/plain": [
       "<Figure size 432x288 with 1 Axes>"
      ]
     },
     "metadata": {
      "needs_background": "light"
     },
     "output_type": "display_data"
    }
   ],
   "source": [
    "from check_model import model_behavior_check, L1_loss_check\n",
    "\n",
    "L1_loss_check(training_yaml_path = \"configs/xWy_10_xWyModel.yaml\", model_name=\"xWy_10_xWyModel\", clamp_level = 2)"
   ]
  },
  {
   "cell_type": "code",
   "execution_count": 3,
   "id": "84df7b9b",
   "metadata": {},
   "outputs": [
    {
     "data": {
      "image/png": "[encoded data removed]",
      "text/plain": [
       "<Figure size 432x288 with 1 Axes>"
      ]
     },
     "metadata": {
      "needs_background": "light"
     },
     "output_type": "display_data"
    }
   ],
   "source": [
    "from check_model import model_behavior_check, L1_loss_check\n",
    "\n",
    "L1_loss_check(training_yaml_path = \"configs/xWy_10_S03_xWyModel.yaml\", model_name=\"xWy_10_S03_xWyModel\", clamp_level = 2)"
   ]
  },
  {
   "cell_type": "code",
   "execution_count": 1,
   "id": "b66e0fc4",
   "metadata": {},
   "outputs": [
    {
     "name": "stdout",
     "output_type": "stream",
     "text": [
      "input :\n",
      "tensor([[ 1.0000,  0.0000,  0.0000,  0.0000,  0.0000,  1.0000,  1.0000,  1.0000,\n",
      "          1.0000,  0.0000,  1.0000,  0.6094, -0.5315,  0.0644, -0.5340, -1.4119],\n",
      "        [ 1.0000,  0.0000,  0.0000,  0.0000,  0.0000,  1.0000,  0.0000,  0.0000,\n",
      "          0.0000,  0.0000,  0.0000,  1.2394, -1.5398, -0.5447,  2.1204, -0.8885],\n",
      "        [ 1.0000,  0.0000,  0.0000,  0.0000,  0.0000,  0.0000,  1.0000,  1.0000,\n",
      "          1.0000,  0.0000,  0.0000, -0.9724,  0.2423, -0.8894, -0.3237,  0.3018],\n",
      "        [ 1.0000,  0.0000,  1.0000,  1.0000,  0.0000,  1.0000,  1.0000,  0.0000,\n",
      "          1.0000,  1.0000,  0.0000,  0.7754, -0.4903, -1.2231, -0.7763, -0.8613],\n",
      "        [ 1.0000,  1.0000,  1.0000,  0.0000,  1.0000,  1.0000,  1.0000,  1.0000,\n",
      "          1.0000,  1.0000,  1.0000,  0.3446, -0.2225, -0.5019,  0.7790, -0.0867]],\n",
      "       device='cuda:0')\n",
      "actual probs:\n",
      "tensor([[0.1354, 0.0000, 0.0000, 0.0000, 0.0000, 0.2827, 0.1720, 0.0573, 0.2411,\n",
      "         0.0000, 0.1115],\n",
      "        [0.1545, 0.0000, 0.0000, 0.0000, 0.0000, 0.8455, 0.0000, 0.0000, 0.0000,\n",
      "         0.0000, 0.0000],\n",
      "        [0.2327, 0.0000, 0.0000, 0.0000, 0.0000, 0.0000, 0.0721, 0.5526, 0.1425,\n",
      "         0.0000, 0.0000],\n",
      "        [0.1111, 0.0000, 0.0215, 0.1801, 0.0000, 0.3157, 0.1186, 0.0000, 0.2038,\n",
      "         0.0493, 0.0000],\n",
      "        [0.0901, 0.2352, 0.0378, 0.0000, 0.0450, 0.1634, 0.0307, 0.1078, 0.0997,\n",
      "         0.0776, 0.1128]], device='cuda:0')\n",
      "predicted probs:\n",
      "tensor([[0.1271, 0.0000, 0.0000, 0.0000, 0.0000, 0.2832, 0.1992, 0.0432, 0.2524,\n",
      "         0.0000, 0.0949],\n",
      "        [0.1504, 0.0000, 0.0000, 0.0000, 0.0000, 0.8496, 0.0000, 0.0000, 0.0000,\n",
      "         0.0000, 0.0000],\n",
      "        [0.2288, 0.0000, 0.0000, 0.0000, 0.0000, 0.0000, 0.0737, 0.5613, 0.1362,\n",
      "         0.0000, 0.0000],\n",
      "        [0.1009, 0.0000, 0.0192, 0.1970, 0.0000, 0.2872, 0.1505, 0.0000, 0.2023,\n",
      "         0.0429, 0.0000],\n",
      "        [0.0899, 0.2393, 0.0380, 0.0000, 0.0461, 0.1624, 0.0302, 0.1068, 0.0995,\n",
      "         0.0794, 0.1081]], device='cuda:0', grad_fn=<SliceBackward0>)\n",
      "KL loss:\n",
      "{'KL_loss': tensor(1.3449, device='cuda:0', grad_fn=<DivBackward1>)}\n",
      "min KL loss:\n",
      "{'KL_loss': tensor(1.3419, device='cuda:0')}\n",
      "silly model KL loss: \n",
      "{'KL_loss': tensor(2.1154, device='cuda:0')}\n"
     ]
    }
   ],
   "source": [
    "from check_model import model_behavior_check\n",
    "\n",
    "model_behavior_check(training_yaml_path = \"configs/xWy_10_S03_xWyModel.yaml\", model_name=\"xWy_10_S03_xWyModel\")"
   ]
  },
  {
   "cell_type": "code",
   "execution_count": 4,
   "id": "8e10dfdc",
   "metadata": {},
   "outputs": [
    {
     "data": {
      "image/png": "[encoded data removed]",
      "text/plain": [
       "<Figure size 432x288 with 1 Axes>"
      ]
     },
     "metadata": {
      "needs_background": "light"
     },
     "output_type": "display_data"
    }
   ],
   "source": [
    "from check_model import model_behavior_check, L1_loss_check\n",
    "\n",
    "L1_loss_check(training_yaml_path = \"configs/Markov_10_S01_xWyModel.yaml\", model_name=\"Markov_10_S01_xWyModel\", clamp_level = 2)"
   ]
  },
  {
   "cell_type": "code",
   "execution_count": 2,
   "id": "e94ad0a2",
   "metadata": {
    "scrolled": true
   },
   "outputs": [
    {
     "name": "stdout",
     "output_type": "stream",
     "text": [
      "input :\n",
      "tensor([[ 1.0000,  0.0000,  0.0000,  0.0000,  0.0000,  1.0000,  1.0000,  1.0000,\n",
      "          1.0000,  0.0000,  1.0000, -1.2191,  0.7560, -1.0265, -1.0611,  0.0536],\n",
      "        [ 1.0000,  0.0000,  0.0000,  0.0000,  0.0000,  1.0000,  0.0000,  0.0000,\n",
      "          0.0000,  0.0000,  0.0000, -0.4200, -1.4454, -1.0911, -0.8002, -0.8781],\n",
      "        [ 1.0000,  0.0000,  0.0000,  0.0000,  0.0000,  0.0000,  1.0000,  1.0000,\n",
      "          1.0000,  0.0000,  0.0000,  0.0565,  0.5482, -0.3738,  2.2187, -0.9162],\n",
      "        [ 1.0000,  0.0000,  1.0000,  1.0000,  0.0000,  1.0000,  1.0000,  0.0000,\n",
      "          1.0000,  1.0000,  0.0000,  0.3496,  0.3042, -0.4141, -0.2072,  0.0973],\n",
      "        [ 1.0000,  1.0000,  1.0000,  0.0000,  1.0000,  1.0000,  1.0000,  1.0000,\n",
      "          1.0000,  1.0000,  1.0000,  1.4289, -0.5735, -1.8113,  0.7801, -1.3206]],\n",
      "       device='cuda:0')\n",
      "actual probs:\n",
      "tensor([[0.1189, 0.0000, 0.0000, 0.0000, 0.0000, 0.1777, 0.1799, 0.1822, 0.1848,\n",
      "         0.0000, 0.1565],\n",
      "        [0.3662, 0.0000, 0.0000, 0.0000, 0.0000, 0.6338, 0.0000, 0.0000, 0.0000,\n",
      "         0.0000, 0.0000],\n",
      "        [0.1464, 0.0000, 0.0000, 0.0000, 0.0000, 0.0000, 0.2937, 0.2343, 0.3256,\n",
      "         0.0000, 0.0000],\n",
      "        [0.0592, 0.0000, 0.1502, 0.1760, 0.0000, 0.1574, 0.1606, 0.0000, 0.1521,\n",
      "         0.1445, 0.0000],\n",
      "        [0.0133, 0.0920, 0.0909, 0.0000, 0.1783, 0.0881, 0.1206, 0.1465, 0.1161,\n",
      "         0.0777, 0.0765]], device='cuda:0')\n",
      "predicted probs:\n",
      "tensor([[0.1840, 0.0000, 0.0000, 0.0000, 0.0000, 0.1572, 0.1473, 0.1951, 0.1650,\n",
      "         0.0000, 0.1515],\n",
      "        [0.5518, 0.0000, 0.0000, 0.0000, 0.0000, 0.4482, 0.0000, 0.0000, 0.0000,\n",
      "         0.0000, 0.0000],\n",
      "        [0.2669, 0.0000, 0.0000, 0.0000, 0.0000, 0.0000, 0.2658, 0.2329, 0.2344,\n",
      "         0.0000, 0.0000],\n",
      "        [0.1441, 0.0000, 0.1472, 0.1516, 0.0000, 0.1387, 0.1407, 0.0000, 0.1409,\n",
      "         0.1368, 0.0000],\n",
      "        [0.1133, 0.1152, 0.1220, 0.0000, 0.1318, 0.0803, 0.0861, 0.1072, 0.0906,\n",
      "         0.0694, 0.0842]], device='cuda:0', grad_fn=<SliceBackward0>)\n",
      "KL loss:\n",
      "{'KL_loss': tensor(1.7415, device='cuda:0', grad_fn=<DivBackward1>)}\n",
      "min KL loss:\n",
      "{'KL_loss': tensor(1.6888, device='cuda:0')}\n",
      "silly model KL loss: \n",
      "{'KL_loss': tensor(2.0970, device='cuda:0')}\n"
     ]
    }
   ],
   "source": [
    "from check_model import model_behavior_check\n",
    "\n",
    "model_behavior_check(training_yaml_path = \"configs/Markov_10_S01_xWyModel.yaml\", model_name=\"Markov_10_S01_xWyModel\")"
   ]
  },
  {
   "cell_type": "code",
   "execution_count": 10,
   "id": "fef5953c",
   "metadata": {},
   "outputs": [
    {
     "data": {
      "image/png": "[encoded data removed]",
      "text/plain": [
       "<Figure size 432x288 with 1 Axes>"
      ]
     },
     "metadata": {
      "needs_background": "light"
     },
     "output_type": "display_data"
    }
   ],
   "source": [
    "from check_model import model_behavior_check, L1_loss_check\n",
    "\n",
    "L1_loss_check(training_yaml_path = \"configs/Markov_10_xWyModel.yaml\", model_name=\"Markov_10_xWyModel\", clamp_level = 2)"
   ]
  },
  {
   "cell_type": "code",
   "execution_count": 8,
   "id": "5b3c2919",
   "metadata": {},
   "outputs": [
    {
     "name": "stdout",
     "output_type": "stream",
     "text": [
      "input :\n",
      "tensor([[ 1.0000,  0.0000,  0.0000,  0.0000,  0.0000,  1.0000,  1.0000,  1.0000,\n",
      "          1.0000,  0.0000,  1.0000, -1.2191,  0.7560, -1.0265, -1.0611,  0.0536],\n",
      "        [ 1.0000,  0.0000,  0.0000,  0.0000,  0.0000,  1.0000,  0.0000,  0.0000,\n",
      "          0.0000,  0.0000,  0.0000, -0.4200, -1.4454, -1.0911, -0.8002, -0.8781],\n",
      "        [ 1.0000,  0.0000,  0.0000,  0.0000,  0.0000,  0.0000,  1.0000,  1.0000,\n",
      "          1.0000,  0.0000,  0.0000,  0.0565,  0.5482, -0.3738,  2.2187, -0.9162],\n",
      "        [ 1.0000,  0.0000,  1.0000,  1.0000,  0.0000,  1.0000,  1.0000,  0.0000,\n",
      "          1.0000,  1.0000,  0.0000,  0.3496,  0.3042, -0.4141, -0.2072,  0.0973],\n",
      "        [ 1.0000,  1.0000,  1.0000,  0.0000,  1.0000,  1.0000,  1.0000,  1.0000,\n",
      "          1.0000,  1.0000,  1.0000,  1.4289, -0.5735, -1.8113,  0.7801, -1.3206]],\n",
      "       device='cuda:0')\n",
      "actual probs:\n",
      "tensor([[6.2389e-01, 0.0000e+00, 0.0000e+00, 0.0000e+00, 0.0000e+00, 1.9260e-02,\n",
      "         1.2907e-01, 1.3963e-01, 5.9345e-02, 0.0000e+00, 2.8803e-02],\n",
      "        [6.8255e-02, 0.0000e+00, 0.0000e+00, 0.0000e+00, 0.0000e+00, 9.3175e-01,\n",
      "         0.0000e+00, 0.0000e+00, 0.0000e+00, 0.0000e+00, 0.0000e+00],\n",
      "        [1.4929e-01, 0.0000e+00, 0.0000e+00, 0.0000e+00, 0.0000e+00, 0.0000e+00,\n",
      "         1.3943e-01, 1.3526e-01, 5.7602e-01, 0.0000e+00, 0.0000e+00],\n",
      "        [1.2234e-01, 0.0000e+00, 9.9280e-02, 3.2866e-01, 0.0000e+00, 9.5564e-02,\n",
      "         1.5063e-01, 0.0000e+00, 1.2823e-01, 7.5290e-02, 0.0000e+00],\n",
      "        [2.7487e-03, 3.9776e-02, 5.4369e-02, 0.0000e+00, 7.8253e-01, 1.2837e-03,\n",
      "         1.8795e-02, 8.9122e-02, 8.1031e-03, 5.5300e-04, 2.7204e-03]],\n",
      "       device='cuda:0')\n",
      "predicted probs:\n",
      "tensor([[0.2158, 0.0000, 0.0000, 0.0000, 0.0000, 0.1468, 0.1265, 0.2357, 0.1776,\n",
      "         0.0000, 0.0976],\n",
      "        [0.7209, 0.0000, 0.0000, 0.0000, 0.0000, 0.2791, 0.0000, 0.0000, 0.0000,\n",
      "         0.0000, 0.0000],\n",
      "        [0.2793, 0.0000, 0.0000, 0.0000, 0.0000, 0.0000, 0.2153, 0.2678, 0.2375,\n",
      "         0.0000, 0.0000],\n",
      "        [0.1447, 0.0000, 0.1494, 0.1818, 0.0000, 0.1341, 0.1366, 0.0000, 0.1421,\n",
      "         0.1114, 0.0000],\n",
      "        [0.1468, 0.1087, 0.0695, 0.0000, 0.2345, 0.0477, 0.0373, 0.1993, 0.0609,\n",
      "         0.0246, 0.0708]], device='cuda:0', grad_fn=<SliceBackward0>)\n",
      "KL loss:\n",
      "{'KL_loss': tensor(1.6465, device='cuda:0', grad_fn=<DivBackward1>)}\n",
      "min KL loss:\n",
      "{'KL_loss': tensor(1.1456, device='cuda:0')}\n",
      "silly model KL loss: \n",
      "{'KL_loss': tensor(2.1203, device='cuda:0')}\n"
     ]
    }
   ],
   "source": [
    "from check_model import model_behavior_check\n",
    "\n",
    "model_behavior_check(training_yaml_path = \"configs/Markov_10_xWyModel.yaml\", model_name=\"Markov_10_xWyModel\")"
   ]
  },
  {
   "cell_type": "code",
   "execution_count": null,
   "id": "79cb36c6",
   "metadata": {},
   "outputs": [],
   "source": []
  }
 ],
 "metadata": {
  "kernelspec": {
   "display_name": "Python 3 (ipykernel)",
   "language": "python",
   "name": "python3"
  },
  "language_info": {
   "codemirror_mode": {
    "name": "ipython",
    "version": 3
   },
   "file_extension": ".py",
   "mimetype": "text/x-python",
   "name": "python",
   "nbconvert_exporter": "python",
   "pygments_lexer": "ipython3",
   "version": "3.9.7"
  }
 },
 "nbformat": 4,
 "nbformat_minor": 5
}
