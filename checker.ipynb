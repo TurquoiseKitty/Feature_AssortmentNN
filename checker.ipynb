{
 "cells": [
  {
   "cell_type": "code",
   "execution_count": 1,
   "id": "65dc5cec",
   "metadata": {},
   "outputs": [
    {
     "name": "stdout",
     "output_type": "stream",
     "text": [
      "input :\n",
      "tensor([[ 1.0000,  0.0000,  0.0000,  0.0000,  0.0000,  0.0000,  0.0000,  0.0000,\n",
      "          1.0000,  1.0000,  1.0000, -1.9648,  0.7082, -1.5746, -1.5029,  0.4127],\n",
      "        [ 1.0000,  0.0000,  1.0000,  1.0000,  1.0000,  0.0000,  0.0000,  0.0000,\n",
      "          1.0000,  0.0000,  0.0000,  1.2291, -0.5892, -0.5319,  0.7198, -0.8699],\n",
      "        [ 1.0000,  0.0000,  0.0000,  0.0000,  0.0000,  0.0000,  0.0000,  0.0000,\n",
      "          0.0000,  0.0000,  1.0000,  0.6455,  1.1826, -1.4570,  2.2957, -0.1119],\n",
      "        [ 1.0000,  1.0000,  0.0000,  0.0000,  1.0000,  0.0000,  1.0000,  0.0000,\n",
      "          0.0000,  1.0000,  0.0000, -1.4520,  0.1223,  1.2077, -0.5501, -0.4473],\n",
      "        [ 1.0000,  0.0000,  0.0000,  0.0000,  0.0000,  0.0000,  1.0000,  0.0000,\n",
      "          0.0000,  0.0000,  0.0000, -1.2801, -0.8115, -0.1972,  0.7027,  0.0188]],\n",
      "       device='cuda:0')\n",
      "actual probs:\n",
      "tensor([[0.0207, 0.0000, 0.0000, 0.0000, 0.0000, 0.0000, 0.0000, 0.0000, 0.8677,\n",
      "         0.0492, 0.0624],\n",
      "        [0.4841, 0.0000, 0.1577, 0.1501, 0.0471, 0.0000, 0.0000, 0.0000, 0.1609,\n",
      "         0.0000, 0.0000],\n",
      "        [0.6653, 0.0000, 0.0000, 0.0000, 0.0000, 0.0000, 0.0000, 0.0000, 0.0000,\n",
      "         0.0000, 0.3347],\n",
      "        [0.1273, 0.1185, 0.0000, 0.0000, 0.0154, 0.0000, 0.3822, 0.0000, 0.0000,\n",
      "         0.3564, 0.0000],\n",
      "        [0.9899, 0.0000, 0.0000, 0.0000, 0.0000, 0.0000, 0.0101, 0.0000, 0.0000,\n",
      "         0.0000, 0.0000]], device='cuda:0')\n",
      "predicted probs:\n",
      "tensor([[0.0312, 0.0000, 0.0000, 0.0000, 0.0000, 0.0000, 0.0000, 0.0000, 0.8160,\n",
      "         0.0679, 0.0849],\n",
      "        [0.4061, 0.0000, 0.1475, 0.1874, 0.0549, 0.0000, 0.0000, 0.0000, 0.2041,\n",
      "         0.0000, 0.0000],\n",
      "        [0.6862, 0.0000, 0.0000, 0.0000, 0.0000, 0.0000, 0.0000, 0.0000, 0.0000,\n",
      "         0.0000, 0.3138],\n",
      "        [0.1696, 0.1603, 0.0000, 0.0000, 0.0302, 0.0000, 0.2566, 0.0000, 0.0000,\n",
      "         0.3833, 0.0000],\n",
      "        [0.9809, 0.0000, 0.0000, 0.0000, 0.0000, 0.0000, 0.0191, 0.0000, 0.0000,\n",
      "         0.0000, 0.0000]], device='cuda:0', grad_fn=<SliceBackward0>)\n",
      "KL loss:\n",
      "{'KL_loss': tensor(0.7028, device='cuda:0', grad_fn=<DivBackward1>)}\n",
      "min KL loss:\n",
      "{'KL_loss': tensor(0.6859, device='cuda:0')}\n",
      "silly model KL loss: \n",
      "{'KL_loss': tensor(2.1801, device='cuda:0')}\n"
     ]
    }
   ],
   "source": [
    "from check_model import model_behavior_check\n",
    "\n",
    "model_behavior_check(training_yaml_path = \"configs/xWy_10_xWyModel.yaml\", model_name=\"xWy_10_xWyModel\")"
   ]
  },
  {
   "cell_type": "code",
   "execution_count": 2,
   "id": "4a56e314",
   "metadata": {},
   "outputs": [
    {
     "data": {
      "image/png": "[encoded data removed]",
      "text/plain": [
       "<Figure size 432x288 with 1 Axes>"
      ]
     },
     "metadata": {
      "needs_background": "light"
     },
     "output_type": "display_data"
    }
   ],
   "source": [
    "from check_model import model_behavior_check, L1_loss_check\n",
    "\n",
    "L1_loss_check(training_yaml_path = \"configs/xWy_10_xWyModel.yaml\", model_name=\"xWy_10_xWyModel\", clamp_level = 2)"
   ]
  },
  {
   "cell_type": "code",
   "execution_count": 3,
   "id": "84df7b9b",
   "metadata": {},
   "outputs": [
    {
     "data": {
      "image/png": "[encoded data removed]",
      "text/plain": [
       "<Figure size 432x288 with 1 Axes>"
      ]
     },
     "metadata": {
      "needs_background": "light"
     },
     "output_type": "display_data"
    }
   ],
   "source": [
    "from check_model import model_behavior_check, L1_loss_check\n",
    "\n",
    "L1_loss_check(training_yaml_path = \"configs/xWy_10_S03_xWyModel.yaml\", model_name=\"xWy_10_S03_xWyModel\", clamp_level = 2)"
   ]
  },
  {
   "cell_type": "code",
   "execution_count": null,
   "id": "b66e0fc4",
   "metadata": {},
   "outputs": [],
   "source": []
  }
 ],
 "metadata": {
  "kernelspec": {
   "display_name": "Python 3 (ipykernel)",
   "language": "python",
   "name": "python3"
  },
  "language_info": {
   "codemirror_mode": {
    "name": "ipython",
    "version": 3
   },
   "file_extension": ".py",
   "mimetype": "text/x-python",
   "name": "python",
   "nbconvert_exporter": "python",
   "pygments_lexer": "ipython3",
   "version": "3.9.7"
  }
 },
 "nbformat": 4,
 "nbformat_minor": 5
}
